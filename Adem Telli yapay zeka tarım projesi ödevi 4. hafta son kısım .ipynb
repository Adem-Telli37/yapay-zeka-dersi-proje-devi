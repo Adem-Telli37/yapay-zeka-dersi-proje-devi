{
 "cells": [
  {
   "cell_type": "code",
   "execution_count": 32,
   "id": "6a2b67c0",
   "metadata": {},
   "outputs": [],
   "source": [
    "import pandas as pd\n",
    "import nltk\n",
    "from nltk.tokenize import word_tokenize, sent_tokenize\n",
    "from nltk.corpus import stopwords\n",
    "import csv\n",
    "import numpy as np\n",
    "from sklearn.feature_extraction.text import TfidfVectorizer\n",
    "from sklearn.metrics.pairwise import cosine_similarity\n",
    "import gensim\n",
    "from gensim.models import Word2Vec\n",
    "import matplotlib.pyplot as plt\n",
    "from collections import Counter\n",
    "import re"
   ]
  },
  {
   "cell_type": "code",
   "execution_count": 33,
   "id": "cb532ae3",
   "metadata": {},
   "outputs": [
    {
     "data": {
      "text/plain": [
       "True"
      ]
     },
     "execution_count": 33,
     "metadata": {},
     "output_type": "execute_result"
    }
   ],
   "source": [
    "# NLTK kaynaklarını indir\n",
    "nltk.download('punkt', quiet=True)\n",
    "nltk.download('stopwords', quiet=True)"
   ]
  },
  {
   "cell_type": "code",
   "execution_count": 34,
   "id": "bf71a5cc",
   "metadata": {},
   "outputs": [],
   "source": [
    "# Türkçe stop words (örnek liste, Zemberek yerine basit bir liste kullanıldı)\n",
    "tr_stopwords = set(stopwords.words('turkish')) | {\n",
    "    'bir', 'bu', 'şu', 've', 'ile', 'de', 'da', 'mi', 'mı', 'mu', 'mü',\n",
    "    'nın', 'nin', 'nun', 'nün', 'ki', 'de', 'da'\n",
    "}"
   ]
  },
  {
   "cell_type": "code",
   "execution_count": 35,
   "id": "2ffa7bf2",
   "metadata": {},
   "outputs": [
    {
     "name": "stdout",
     "output_type": "stream",
     "text": [
      "Veri seti boyutu: 200 döküman, ~1 MB\n",
      "Verinin ilk 500 karakteri:\n",
      "Bu yaz sezonunda şeftali tarlamızda yapraklarda kahverengileşme ve büzüşme. Sulama artırılmasına rağmen bitkilerde düzelme olmadı, yem takviyesi yapmalı mıyız?\n"
     ]
    }
   ],
   "source": [
    "# Veri setini yükleme\n",
    "df = pd.read_csv('C:/Users/ademt/Desktop/tarim_problemleri_veriseti.csv', encoding='utf-8')\n",
    "texts = df['sorun_metin'].tolist()\n",
    "print(f\"Veri seti boyutu: {len(texts)} döküman, ~1 MB\")\n",
    "print(\"Verinin ilk 500 karakteri:\")\n",
    "print(texts[0][:500])"
   ]
  },
  {
   "cell_type": "code",
   "execution_count": 36,
   "id": "b6abd518",
   "metadata": {},
   "outputs": [],
   "source": [
    "# Metin ön işleme fonksiyonu\n",
    "def preprocess_text(text):\n",
    "    # Küçük harfe çevir\n",
    "    text = text.lower()\n",
    "    # Noktalama işaretlerini kaldır\n",
    "    text = text.translate(str.maketrans('', '', string.punctuation))\n",
    "    # Tokenize et\n",
    "    tokens = word_tokenize(text)\n",
    "    # Stop words'leri kaldır\n",
    "    tokens = [token for token in tokens if token not in tr_stopwords]\n",
    "    # Basit stemming (Türkçe için basit bir yaklaşım, son 3 harfi kes)\n",
    "    tokens = [token[:-3] if len(token) > 3 else token for token in tokens]\n",
    "    return ' '.join(tokens)"
   ]
  },
  {
   "cell_type": "code",
   "execution_count": 37,
   "id": "b907e283",
   "metadata": {},
   "outputs": [
    {
     "name": "stdout",
     "output_type": "stream",
     "text": [
      "TF-IDF matrisi 'tfidf_matrix.csv' dosyasına kaydedildi.\n"
     ]
    }
   ],
   "source": [
    "import string\n",
    "import pandas as pd\n",
    "from sklearn.feature_extraction.text import TfidfVectorizer\n",
    "from nltk.tokenize import word_tokenize  # Eğer kullanıyorsan\n",
    "\n",
    "# Örnek ön işleme fonksiyonu\n",
    "def preprocess_text(text):\n",
    "    text = text.lower()\n",
    "    text = text.translate(str.maketrans('', '', string.punctuation))\n",
    "    tokens = word_tokenize(text)\n",
    "    return ' '.join(tokens)\n",
    "\n",
    "# texts adlı metin listesini tanımladığınızı varsayıyoruz\n",
    "# texts = [\"örnek metin1\", \"örnek metin2\", ...]\n",
    "\n",
    "preprocessed_texts = [preprocess_text(text) for text in texts]\n",
    "\n",
    "vectorizer = TfidfVectorizer(max_features=1000)\n",
    "tfidf_matrix = vectorizer.fit_transform(preprocessed_texts)\n",
    "\n",
    "tfidf_df = pd.DataFrame(tfidf_matrix.toarray(), columns=vectorizer.get_feature_names_out())\n",
    "tfidf_df.to_csv('tfidf_matrix.csv', index=False)\n",
    "\n",
    "print(\"TF-IDF matrisi 'tfidf_matrix.csv' dosyasına kaydedildi.\")\n"
   ]
  },
  {
   "cell_type": "code",
   "execution_count": 38,
   "id": "c9cf62eb",
   "metadata": {},
   "outputs": [],
   "source": [
    "df['cluster'] = kmeans.labels_\n",
    "df['solution'] = df['cluster'].map(solution_dict)\n"
   ]
  },
  {
   "cell_type": "code",
   "execution_count": 39,
   "id": "b56fc5c9",
   "metadata": {},
   "outputs": [],
   "source": [
    "df[['id', 'sorun_metin', 'cluster', 'solution']].to_csv('clustered_problems_with_solutions.csv', index=False)\n"
   ]
  },
  {
   "cell_type": "code",
   "execution_count": 40,
   "id": "3203da6d",
   "metadata": {},
   "outputs": [],
   "source": [
    "# Zipf analizi\n",
    "all_tokens = []\n",
    "for text in preprocessed_texts:\n",
    "    all_tokens.extend(word_tokenize(text))\n",
    "word_counts = Counter(all_tokens)\n",
    "sorted_words = sorted(word_counts.items(), key=lambda x: x[1], reverse=True)\n",
    "ranks = range(1, len(sorted_words) + 1)\n",
    "frequencies = [freq for _, freq in sorted_words]"
   ]
  },
  {
   "cell_type": "code",
   "execution_count": 41,
   "id": "bc82ec86",
   "metadata": {},
   "outputs": [
    {
     "name": "stdout",
     "output_type": "stream",
     "text": [
      "Zipf grafiği 'zipf_plot.png' dosyasına kaydedildi.\n"
     ]
    }
   ],
   "source": [
    "# Zipf grafiği\n",
    "plt.figure(figsize=(10, 6))\n",
    "plt.loglog(ranks, frequencies, marker='.')\n",
    "plt.title(\"Zipf Yasası - Kelime Frekansları\")\n",
    "plt.xlabel(\"Sıra (Log)\")\n",
    "plt.ylabel(\"Frekans (Log)\")\n",
    "plt.grid(True)\n",
    "plt.savefig('zipf_plot.png')\n",
    "plt.close()\n",
    "print(\"Zipf grafiği 'zipf_plot.png' dosyasına kaydedildi.\")"
   ]
  },
  {
   "cell_type": "code",
   "execution_count": 42,
   "id": "807be0a0",
   "metadata": {},
   "outputs": [
    {
     "name": "stderr",
     "output_type": "stream",
     "text": [
      "C:\\Users\\ademt\\anaconda3\\Lib\\site-packages\\sklearn\\cluster\\_kmeans.py:1412: FutureWarning: The default value of `n_init` will change from 10 to 'auto' in 1.4. Set the value of `n_init` explicitly to suppress the warning\n",
      "  super()._check_params_vs_input(X, default_n_init=10)\n"
     ]
    }
   ],
   "source": [
    "from sklearn.cluster import KMeans\n",
    "\n",
    "# K-Means kümeleme\n",
    "num_clusters = 5  # Varsayılan küme sayısı\n",
    "kmeans = KMeans(n_clusters=num_clusters, random_state=42)\n",
    "kmeans.fit(tfidf_matrix)\n",
    "\n",
    "# Sonuçları TF-IDF DataFrame'ine ekleyelim\n",
    "tfidf_df['cluster'] = kmeans.labels_\n"
   ]
  },
  {
   "cell_type": "code",
   "execution_count": 43,
   "id": "2b40f394",
   "metadata": {},
   "outputs": [
    {
     "name": "stdout",
     "output_type": "stream",
     "text": [
      "\n",
      "Kümelenmiş Sorun Metinleri:\n",
      "\n",
      "Küme 0:\n",
      "- mısır tarlamızda genç fidelerde çekiş kaybı yaşanması. aktarma organlarında sorun kaynaklı olabilir mi?\n",
      "- Son hasatta traktörmizin çekiş kaybı yaşanması. gübreleme programını yeniden düzenlemeli miyim?\n",
      "- kabak tarlamızda başakların dolmadan sararması. Tarlanın drenaj sistemi motor gücü yetersizliği. sulama sıklığını değiştirmeli miyim?\n",
      "- domates tarlamızda aşırı su birikimi nedeniyle kök çürümesi. Tarlanın drenaj sistemi azot eksikliği. sulama sıklığını değiştirmeli miyim?\n",
      "- marul ağaçlarımızda çekiş kaybı yaşanması. drenaj eksikliği söz konusu olabilir mi?\n",
      "\n",
      "Küme 1:\n",
      "- patates tarlamızda genç fidelerde genç sürgünlerde kurumalar ve yaprak dökümü. azot eksikliği kaynaklı olabilir mi?\n",
      "- Yeni aldığımız ilaçlama makinesi kök bölgesinde yumuşama ve siyahlaşma. aktarma organlarında sorun olabilir mi?\n",
      "- Yeni aldığımız traktör genç sürgünlerde kurumalar ve yaprak dökümü. kök çürüklüğü olabilir mi?\n",
      "- Seradaki kabaklerde genç sürgünlerde kurumalar ve yaprak dökümü. Bu durum azot eksikliği belirtisi olabilir mi, bıçak bilemesi yapılmalı mı?\n",
      "- Seradaki patateslerde meyve dökülmesi aşırı arttı. Bu durum azot eksikliği belirtisi olabilir mi, drenaj için hendek açmalı mıyız?\n",
      "\n",
      "Küme 2:\n",
      "- üzüm ağaçlarımızda yapraklarda kahverengileşme ve büzüşme. motor gücü yetersizliği söz konusu olabilir mi?\n",
      "- Son hasatta traktörmizin meyve dökülmesi aşırı arttı. toprak analizi yaptırmalı mıyım?\n",
      "- Yeni aldığımız biçerdöver meyve dökülmesi aşırı arttı. toprakta yoğun su birikimi olabilir mi?\n",
      "- Seradaki üzümlerde aşırı su birikimi nedeniyle kök çürümesi. Bu durum mantari bir hastalık belirtisi olabilir mi, bıçak bilemesi yapılmalı mı?\n",
      "- kabak ağaçlarımızda meyve dökülmesi aşırı arttı. motor gücü yetersizliği söz konusu olabilir mi?\n",
      "\n",
      "Küme 3:\n",
      "- Bu yaz kurak geçtiği için sığırların genç sürgünlerde kurumalar ve yaprak dökümü. gübreleme programını yeniden düzenlemeli miyim?\n",
      "- Bu yaz kurak geçtiği için sığırların genç sürgünlerde kurumalar ve yaprak dökümü. bıçak bilemesi yapılmalı mı?\n",
      "- Bu yaz kurak geçtiği için sığırların kök bölgesinde yumuşama ve siyahlaşma. acil müdahale gerekli mi?\n",
      "- Bu yaz kurak geçtiği için atların genç sürgünlerde kurumalar ve yaprak dökümü. bıçak bilemesi yapılmalı mı?\n",
      "- Bu yaz kurak geçtiği için keçiların çekiş kaybı yaşanması. sulama sıklığını değiştirmeli miyim?\n",
      "\n",
      "Küme 4:\n",
      "- Bu yaz sezonunda şeftali tarlamızda yapraklarda kahverengileşme ve büzüşme. Sulama artırılmasına rağmen bitkilerde düzelme olmadı, yem takviyesi yapmalı mıyız?\n",
      "- Bu yaz sezonunda şeftali tarlamızda yapraklarda kahverengileşme ve büzüşme. Sulama artırılmasına rağmen bitkilerde düzelme olmadı, bıçak bilemesi yapılmalı mı?\n",
      "- Bu yaz sezonunda patates tarlamızda aşırı su birikimi nedeniyle kök çürümesi. Sulama artırılmasına rağmen bitkilerde düzelme olmadı, fungusit uygulaması gerekli mi?\n",
      "- Bu yaz sezonunda domates tarlamızda meradaki ot tüketimi azalması. Sulama artırılmasına rağmen bitkilerde düzelme olmadı, bıçak bilemesi yapılmalı mı?\n",
      "- Bu yaz sezonunda domates tarlamızda meradaki ot tüketimi azalması. Sulama artırılmasına rağmen bitkilerde düzelme olmadı, gübreleme programını yeniden düzenlemeli miyim?\n"
     ]
    }
   ],
   "source": [
    "# Orijinal metinleri TF-IDF DataFrame'e ekle\n",
    "tfidf_df['text'] = texts  # orijinal metinler\n",
    "\n",
    "# Kümelenmiş metinleri yazdırma\n",
    "print(\"\\nKümelenmiş Sorun Metinleri:\")\n",
    "for cluster_id in range(num_clusters):\n",
    "    print(f\"\\nKüme {cluster_id}:\")\n",
    "    cluster_texts = tfidf_df[tfidf_df['cluster'] == cluster_id]['text'].tolist()\n",
    "    for text in cluster_texts[:5]:  # Her kümeden ilk 5 metni göster\n",
    "        print(f\"- {text}\")\n"
   ]
  },
  {
   "cell_type": "code",
   "execution_count": 44,
   "id": "1cf5ba00",
   "metadata": {},
   "outputs": [
    {
     "name": "stderr",
     "output_type": "stream",
     "text": [
      "C:\\Users\\ademt\\anaconda3\\Lib\\site-packages\\sklearn\\cluster\\_kmeans.py:1412: FutureWarning: The default value of `n_init` will change from 10 to 'auto' in 1.4. Set the value of `n_init` explicitly to suppress the warning\n",
      "  super()._check_params_vs_input(X, default_n_init=10)\n"
     ]
    }
   ],
   "source": [
    "# Elbow yöntemi ile optimum küme sayısını belirleme\n",
    "inertia = []\n",
    "for k in range(2, 10):\n",
    "    kmeans_temp = KMeans(n_clusters=k, random_state=42)\n",
    "    kmeans_temp.fit(tfidf_matrix)\n",
    "    inertia.append(kmeans_temp.inertia_)"
   ]
  },
  {
   "cell_type": "code",
   "execution_count": 45,
   "id": "8c24b7ec",
   "metadata": {},
   "outputs": [
    {
     "name": "stdout",
     "output_type": "stream",
     "text": [
      "Elbow grafiği 'elbow_plot.png' dosyasına kaydedildi.\n"
     ]
    }
   ],
   "source": [
    "# Elbow grafiği\n",
    "plt.figure(figsize=(10, 6))\n",
    "plt.plot(range(2, 10), inertia, marker='o')\n",
    "plt.xlabel('Küme Sayısı')\n",
    "plt.ylabel('Inertia')\n",
    "plt.title('Elbow Yöntemi ile Küme Sayısı Seçimi')\n",
    "plt.grid(True)\n",
    "plt.savefig('elbow_plot.png')\n",
    "plt.close()\n",
    "print(\"Elbow grafiği 'elbow_plot.png' dosyasına kaydedildi.\")"
   ]
  },
  {
   "cell_type": "code",
   "execution_count": 46,
   "id": "b3b48d56",
   "metadata": {},
   "outputs": [
    {
     "name": "stdout",
     "output_type": "stream",
     "text": [
      "Silhouette Skoru: 0.0799\n"
     ]
    }
   ],
   "source": [
    "from sklearn.metrics import silhouette_score\n",
    "\n",
    "# Silhouette skoru\n",
    "silhouette_avg = silhouette_score(tfidf_matrix, kmeans.labels_)\n",
    "print(f\"Silhouette Skoru: {silhouette_avg:.4f}\")\n"
   ]
  },
  {
   "cell_type": "code",
   "execution_count": 47,
   "id": "e6414d17",
   "metadata": {},
   "outputs": [],
   "source": [
    "# Çözüm önerileri tanımlama (örnek)\n",
    "solution_dict = {\n",
    "    0: \"Toprak analizi yaptırarak azot eksikliğini kontrol edin ve uygun gübreleme yapın.\",\n",
    "    1: \"Drenaj sistemini kontrol edin ve su birikimini önlemek için hendek açmayı değerlendirin.\",\n",
    "    2: \"Fungisit uygulaması yaparak mantari hastalıkları kontrol altına alın.\",\n",
    "    3: \"Sulama sıklığını optimize edin ve sulama sistemini kontrol edin.\",\n",
    "    4: \"Bıçak bilemesi yaparak makine performansını artırın ve tıkanıklıkları önleyin.\"\n",
    "}"
   ]
  },
  {
   "cell_type": "code",
   "execution_count": 48,
   "id": "1fb7fe3c",
   "metadata": {},
   "outputs": [],
   "source": [
    "# Kümelere çözüm önerileri ekleme\n",
    "tfidf_df['solution'] = tfidf_df['cluster'].map(solution_dict)\n"
   ]
  },
  {
   "cell_type": "code",
   "execution_count": 49,
   "id": "6ae8a36e",
   "metadata": {},
   "outputs": [],
   "source": [
    "# TF-IDF DataFrame oluştur\n",
    "tfidf_df = pd.DataFrame(tfidf_matrix.toarray(), columns=vectorizer.get_feature_names_out())\n",
    "\n",
    "# Orijinal metinleri ekle\n",
    "tfidf_df['sorun_metin'] = texts  # veya df['sorun_metin']\n",
    "\n",
    "# Kümeleri ekle\n",
    "tfidf_df['cluster'] = kmeans.labels_\n",
    "\n",
    "# Çözüm önerileri ekle\n",
    "tfidf_df['solution'] = tfidf_df['cluster'].map(solution_dict)\n"
   ]
  },
  {
   "cell_type": "code",
   "execution_count": 50,
   "id": "8a2d0e60",
   "metadata": {},
   "outputs": [
    {
     "name": "stdout",
     "output_type": "stream",
     "text": [
      "\n",
      "Kümeler ve Çözüm Önerileri:\n",
      "\n",
      "Küme 0 Çözüm Önerisi: Toprak analizi yaptırarak azot eksikliğini kontrol edin ve uygun gübreleme yapın.\n",
      "- Sorun: mısır tarlamızda genç fidelerde çekiş kaybı yaşanması. aktarma organlarında sorun kaynaklı olabilir mi?\n",
      "- Sorun: Son hasatta traktörmizin çekiş kaybı yaşanması. gübreleme programını yeniden düzenlemeli miyim?\n",
      "- Sorun: kabak tarlamızda başakların dolmadan sararması. Tarlanın drenaj sistemi motor gücü yetersizliği. sulama sıklığını değiştirmeli miyim?\n",
      "\n",
      "Küme 1 Çözüm Önerisi: Drenaj sistemini kontrol edin ve su birikimini önlemek için hendek açmayı değerlendirin.\n",
      "- Sorun: patates tarlamızda genç fidelerde genç sürgünlerde kurumalar ve yaprak dökümü. azot eksikliği kaynaklı olabilir mi?\n",
      "- Sorun: Yeni aldığımız ilaçlama makinesi kök bölgesinde yumuşama ve siyahlaşma. aktarma organlarında sorun olabilir mi?\n",
      "- Sorun: Yeni aldığımız traktör genç sürgünlerde kurumalar ve yaprak dökümü. kök çürüklüğü olabilir mi?\n",
      "\n",
      "Küme 2 Çözüm Önerisi: Fungisit uygulaması yaparak mantari hastalıkları kontrol altına alın.\n",
      "- Sorun: üzüm ağaçlarımızda yapraklarda kahverengileşme ve büzüşme. motor gücü yetersizliği söz konusu olabilir mi?\n",
      "- Sorun: Son hasatta traktörmizin meyve dökülmesi aşırı arttı. toprak analizi yaptırmalı mıyım?\n",
      "- Sorun: Yeni aldığımız biçerdöver meyve dökülmesi aşırı arttı. toprakta yoğun su birikimi olabilir mi?\n",
      "\n",
      "Küme 3 Çözüm Önerisi: Sulama sıklığını optimize edin ve sulama sistemini kontrol edin.\n",
      "- Sorun: Bu yaz kurak geçtiği için sığırların genç sürgünlerde kurumalar ve yaprak dökümü. gübreleme programını yeniden düzenlemeli miyim?\n",
      "- Sorun: Bu yaz kurak geçtiği için sığırların genç sürgünlerde kurumalar ve yaprak dökümü. bıçak bilemesi yapılmalı mı?\n",
      "- Sorun: Bu yaz kurak geçtiği için sığırların kök bölgesinde yumuşama ve siyahlaşma. acil müdahale gerekli mi?\n",
      "\n",
      "Küme 4 Çözüm Önerisi: Bıçak bilemesi yaparak makine performansını artırın ve tıkanıklıkları önleyin.\n",
      "- Sorun: Bu yaz sezonunda şeftali tarlamızda yapraklarda kahverengileşme ve büzüşme. Sulama artırılmasına rağmen bitkilerde düzelme olmadı, yem takviyesi yapmalı mıyız?\n",
      "- Sorun: Bu yaz sezonunda şeftali tarlamızda yapraklarda kahverengileşme ve büzüşme. Sulama artırılmasına rağmen bitkilerde düzelme olmadı, bıçak bilemesi yapılmalı mı?\n",
      "- Sorun: Bu yaz sezonunda patates tarlamızda aşırı su birikimi nedeniyle kök çürümesi. Sulama artırılmasına rağmen bitkilerde düzelme olmadı, fungusit uygulaması gerekli mi?\n"
     ]
    }
   ],
   "source": [
    "print(\"\\nKümeler ve Çözüm Önerileri:\")\n",
    "for cluster_id in range(num_clusters):\n",
    "    print(f\"\\nKüme {cluster_id} Çözüm Önerisi: {solution_dict[cluster_id]}\")\n",
    "    cluster_texts = tfidf_df[tfidf_df['cluster'] == cluster_id]['sorun_metin'].tolist()\n",
    "    for text in cluster_texts[:3]:  # Her kümeden ilk 3 metni göster\n",
    "        print(f\"- Sorun: {text}\")\n"
   ]
  },
  {
   "cell_type": "code",
   "execution_count": 51,
   "id": "a4e6f633",
   "metadata": {},
   "outputs": [
    {
     "name": "stdout",
     "output_type": "stream",
     "text": [
      "Kümelenmiş sorunlar ve çözüm önerileri 'clustered_problems_with_solutions.csv' dosyasına kaydedildi.\n"
     ]
    }
   ],
   "source": [
    "# Sonuçları CSV dosyasına kaydetme\n",
    "df[['id', 'sorun_metin', 'cluster', 'solution']].to_csv('clustered_problems_with_solutions.csv', index=False)\n",
    "print(\"Kümelenmiş sorunlar ve çözüm önerileri 'clustered_problems_with_solutions.csv' dosyasına kaydedildi.\")"
   ]
  },
  {
   "cell_type": "code",
   "execution_count": null,
   "id": "c3c4876c",
   "metadata": {},
   "outputs": [],
   "source": []
  }
 ],
 "metadata": {
  "kernelspec": {
   "display_name": "Python 3 (ipykernel)",
   "language": "python",
   "name": "python3"
  },
  "language_info": {
   "codemirror_mode": {
    "name": "ipython",
    "version": 3
   },
   "file_extension": ".py",
   "mimetype": "text/x-python",
   "name": "python",
   "nbconvert_exporter": "python",
   "pygments_lexer": "ipython3",
   "version": "3.11.5"
  }
 },
 "nbformat": 4,
 "nbformat_minor": 5
}
